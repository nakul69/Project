{
 "cells": [
  {
   "cell_type": "code",
   "execution_count": 1,
   "metadata": {},
   "outputs": [],
   "source": [
    "import numpy as np\n",
    "import matplotlib.pyplot as plt\n",
    "import pandas as pd\n",
    "import statistics as st"
   ]
  },
  {
   "cell_type": "code",
   "execution_count": 2,
   "metadata": {},
   "outputs": [],
   "source": [
    "data=pd.read_csv(\"data.csv\", sep=\",\").values"
   ]
  },
  {
   "cell_type": "code",
   "execution_count": 3,
   "metadata": {},
   "outputs": [],
   "source": [
    "##EXP_1 Data\n",
    "exp_1=data[:,4]\n",
    "exp1_data=pd.read_csv(exp_1[0],sep=\" \",header=None).values\n",
    "for i in range(len(exp_1)-1):\n",
    "    exp1_data_temp=pd.read_csv(exp_1[i+1],sep=\" \",header=None).values\n",
    "    exp1_data=np.concatenate((exp1_data,exp1_data_temp))    "
   ]
  },
  {
   "cell_type": "code",
   "execution_count": 4,
   "metadata": {},
   "outputs": [],
   "source": [
    "##EXP_2 Data\n",
    "exp_2=data[:,5]\n",
    "exp2_data=pd.read_csv(exp_2[0],sep=\" \",header=None).values\n",
    "for i in range(len(exp_2)-1):\n",
    "    exp2_data_temp=pd.read_csv(exp_2[i+1],sep=\" \",header=None).values\n",
    "    exp2_data=np.concatenate((exp2_data,exp2_data_temp))    "
   ]
  },
  {
   "cell_type": "code",
   "execution_count": 5,
   "metadata": {},
   "outputs": [],
   "source": [
    "##EXP_3 Data\n",
    "exp_3=data[:,6]\n",
    "exp3_data=pd.read_csv(exp_3[0],sep=\" \",header=None).values\n",
    "for i in range(len(exp_3)-1):\n",
    "    exp3_data_temp=pd.read_csv(exp_3[i+1],sep=\" \",header=None).values\n",
    "    exp3_data=np.concatenate((exp3_data,exp3_data_temp))    "
   ]
  },
  {
   "cell_type": "code",
   "execution_count": 6,
   "metadata": {},
   "outputs": [],
   "source": [
    "##EXP_4 Data\n",
    "exp_4=data[:,7]\n",
    "exp4_data=pd.read_csv(exp_4[0],sep=\" \",header=None).values\n",
    "for i in range(len(exp_4)-1):\n",
    "    exp4_data_temp=pd.read_csv(exp_4[i+1],sep=\" \",header=None).values\n",
    "    exp4_data=np.concatenate((exp4_data,exp4_data_temp))    "
   ]
  },
  {
   "cell_type": "code",
   "execution_count": 7,
   "metadata": {},
   "outputs": [],
   "source": [
    "exp1_mean_rt=[]\n",
    "exp1_var_rt=[]\n",
    "exp1_median=[]\n",
    "for i in range(4):\n",
    "    exp1_mean_rt.append(np.mean(exp1_data[exp1_data[:,1]==6*(i+1)][:,3]))\n",
    "    exp1_var_rt.append(np.var(exp1_data[exp1_data[:,1]==6*(i+1)][:,3]))\n",
    "    exp1_median.append(st.median(exp1_data[exp1_data[:,1]==6*(i+1)][:,3]))\n",
    "\n",
    "exp2_mean_rt=[]\n",
    "exp2_var_rt=[]\n",
    "exp2_median=[]\n",
    "for i in range(4):\n",
    "    exp2_mean_rt.append(np.mean(exp2_data[exp2_data[:,1]==6*(i+1)][:,3]))\n",
    "    exp2_var_rt.append(np.var(exp2_data[exp2_data[:,1]==6*(i+1)][:,3]))\n",
    "    exp2_median.append(st.median(exp2_data[exp2_data[:,1]==6*(i+1)][:,3]))\n",
    "\n",
    "exp3_mean_rt=[]\n",
    "exp3_var_rt=[]\n",
    "exp3_median=[]\n",
    "for i in range(4):\n",
    "    exp3_mean_rt.append(np.mean(exp3_data[exp3_data[:,1]==6*(i+1)][:,3])) \n",
    "    exp3_var_rt.append(np.var(exp3_data[exp3_data[:,1]==6*(i+1)][:,3])) \n",
    "    exp3_median.append(st.median(exp3_data[exp3_data[:,1]==6*(i+1)][:,3]))\n",
    "    \n",
    "exp4_mean_rt=[]\n",
    "exp4_var_rt=[]\n",
    "exp4_median=[]\n",
    "for i in range(4):\n",
    "    exp4_mean_rt.append(np.mean(exp4_data[exp4_data[:,1]==6*(i+1)][:,3]))   \n",
    "    exp4_var_rt.append(np.var(exp4_data[exp4_data[:,1]==6*(i+1)][:,3]))\n",
    "    exp4_median.append(st.median(exp4_data[exp4_data[:,1]==6*(i+1)][:,3]))"
   ]
  },
  {
   "cell_type": "code",
   "execution_count": 8,
   "metadata": {},
   "outputs": [
    {
     "data": {
      "text/plain": [
       "<matplotlib.legend.Legend at 0x9a73cc0>"
      ]
     },
     "execution_count": 8,
     "metadata": {},
     "output_type": "execute_result"
    },
    {
     "data": {
      "image/png": "[encoded data removed]",
      "text/plain": [
       "<Figure size 432x288 with 1 Axes>"
      ]
     },
     "metadata": {
      "needs_background": "light"
     },
     "output_type": "display_data"
    }
   ],
   "source": [
    "size_lst=[6,12,18,24]\n",
    "\n",
    "plt.title(\"Target Trials\")\n",
    "plt.plot(size_lst,exp1_mean_rt,marker='o',label='Exp_1')\n",
    "plt.plot(size_lst,exp2_mean_rt,marker='o',label='Exp_2')\n",
    "plt.plot(size_lst,exp3_mean_rt,marker='o',label='Exp_3')\n",
    "plt.plot(size_lst,exp4_mean_rt,marker='o',label='Exp_4')\n",
    "plt.ylabel('Reaction Time (msec)')\n",
    "plt.xlabel(\"item-size\")\n",
    "plt.xticks([6,12,18,24])\n",
    "plt.legend()"
   ]
  },
  {
   "cell_type": "markdown",
   "metadata": {},
   "source": [
    "# References:\n",
    "## 1. The Role of Categorization in Visual Search for Orientation by M. Wolfe, M. O'Connell, I. Stewart and R. Friedman-Hill\n",
    "## 2. Brain and Cognitive Society IITK"
   ]
  }
 ],
 "metadata": {
  "kernelspec": {
   "display_name": "Python 3",
   "language": "python",
   "name": "python3"
  },
  "language_info": {
   "codemirror_mode": {
    "name": "ipython",
    "version": 3
   },
   "file_extension": ".py",
   "mimetype": "text/x-python",
   "name": "python",
   "nbconvert_exporter": "python",
   "pygments_lexer": "ipython3",
   "version": "3.7.3"
  }
 },
 "nbformat": 4,
 "nbformat_minor": 2
}
